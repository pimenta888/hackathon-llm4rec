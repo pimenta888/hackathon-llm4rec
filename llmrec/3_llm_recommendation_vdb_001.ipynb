{
 "cells": [
  {
   "cell_type": "markdown",
   "metadata": {},
   "source": [
    "## Website\n",
    "https://medium.com/microsoftazure/recommendation-systems-enhanced-by-llms-fe1fc8e23a58"
   ]
  },
  {
   "cell_type": "code",
   "execution_count": 28,
   "metadata": {},
   "outputs": [],
   "source": [
    "import os\n",
    "import pandas as pd\n",
    "import lancedb\n",
    "from langchain_openai import AzureOpenAIEmbeddings\n",
    "from langchain.vectorstores import LanceDB\n",
    "from langchain.chains import RetrievalQA\n",
    "from langchain_openai import AzureChatOpenAI\n",
    "from langchain_openai import AzureOpenAI\n",
    "\n",
    "from dotenv import load_dotenv\n",
    "load_dotenv(verbose=True, override=True)\n",
    "\n",
    "embeddings_api = AzureOpenAIEmbeddings(azure_deployment=os.getenv(\"AZURE_OPENAI_EMBEDDING_DEPLOYMENT_NAME\"),\n",
    "                                    openai_api_version=os.getenv(\"AZURE_OPENAI_API_VERSION\")\n",
    "                                    )\n",
    "\n",
    "llm_chat_api = AzureChatOpenAI(openai_api_version=os.environ[\"AZURE_OPENAI_API_VERSION\"],\n",
    "                            azure_deployment=os.environ[\"AZURE_OPENAI_CHAT_DEPLOYMENT_NAME\"],\n",
    "                            max_tokens = 1500\n",
    "                            )\n",
    "\n",
    "llm_instruct_api = AzureOpenAI(openai_api_version=os.environ[\"AZURE_OPENAI_API_VERSION\"],\n",
    "                            azure_deployment=os.environ[\"AZURE_OPENAI_INSTRUCT_DEPLOYMENT_NAME\"],\n",
    "                            max_tokens = 1500\n",
    "                            )\n",
    "\n"
   ]
  },
  {
   "cell_type": "code",
   "execution_count": 29,
   "metadata": {},
   "outputs": [
    {
     "data": {
      "text/html": [
       "<div>\n",
       "<style scoped>\n",
       "    .dataframe tbody tr th:only-of-type {\n",
       "        vertical-align: middle;\n",
       "    }\n",
       "\n",
       "    .dataframe tbody tr th {\n",
       "        vertical-align: top;\n",
       "    }\n",
       "\n",
       "    .dataframe thead th {\n",
       "        text-align: right;\n",
       "    }\n",
       "</style>\n",
       "<table border=\"1\" class=\"dataframe\">\n",
       "  <thead>\n",
       "    <tr style=\"text-align: right;\">\n",
       "      <th></th>\n",
       "      <th>CardName</th>\n",
       "      <th>Discount</th>\n",
       "      <th>Description</th>\n",
       "      <th>text</th>\n",
       "      <th>n_tokens</th>\n",
       "      <th>vector</th>\n",
       "    </tr>\n",
       "  </thead>\n",
       "  <tbody>\n",
       "    <tr>\n",
       "      <th>0</th>\n",
       "      <td>American Express Gold Card</td>\n",
       "      <td>€30</td>\n",
       "      <td>Get a €30 statement credit by spending €150 or...</td>\n",
       "      <td>CardName: American Express Gold Card. Discount...</td>\n",
       "      <td>42</td>\n",
       "      <td>[-0.028317386284470558, -0.01587647572159767, ...</td>\n",
       "    </tr>\n",
       "    <tr>\n",
       "      <th>1</th>\n",
       "      <td>American Express Gold Card</td>\n",
       "      <td>€25</td>\n",
       "      <td>Earn a €25 statement credit with a €99 purchas...</td>\n",
       "      <td>CardName: American Express Gold Card. Discount...</td>\n",
       "      <td>43</td>\n",
       "      <td>[-0.021910404786467552, -0.013033478520810604,...</td>\n",
       "    </tr>\n",
       "  </tbody>\n",
       "</table>\n",
       "</div>"
      ],
      "text/plain": [
       "                     CardName Discount  \\\n",
       "0  American Express Gold Card      €30   \n",
       "1  American Express Gold Card      €25   \n",
       "\n",
       "                                         Description  \\\n",
       "0  Get a €30 statement credit by spending €150 or...   \n",
       "1  Earn a €25 statement credit with a €99 purchas...   \n",
       "\n",
       "                                                text  n_tokens  \\\n",
       "0  CardName: American Express Gold Card. Discount...        42   \n",
       "1  CardName: American Express Gold Card. Discount...        43   \n",
       "\n",
       "                                              vector  \n",
       "0  [-0.028317386284470558, -0.01587647572159767, ...  \n",
       "1  [-0.021910404786467552, -0.013033478520810604,...  "
      ]
     },
     "execution_count": 29,
     "metadata": {},
     "output_type": "execute_result"
    }
   ],
   "source": [
    "card_rewards = pd.read_pickle(os.path.join(os.getcwd(), \"data\",\"card_rewards.pkl\"))  \n",
    "card_rewards.head(2)"
   ]
  },
  {
   "cell_type": "markdown",
   "metadata": {},
   "source": [
    "we want to store our embeddings into a VectorDB, so that we can perform similarity search with the embedded query of the user. LangChain offers many integrations with 3rd party vector stores and, in this case, we are going to use LanceDB:"
   ]
  },
  {
   "cell_type": "code",
   "execution_count": 30,
   "metadata": {},
   "outputs": [],
   "source": [
    "uri = \"dataset/sample-card-lancedb\"\n",
    "db = lancedb.connect(uri)\n",
    "table = db.create_table(\"card\", card_rewards, mode=\"overwrite\")\n",
    "\n",
    "embeddings = embeddings_api\n",
    "\n",
    "docsearch = LanceDB(connection = db, embedding = embeddings, table_name=\"card\")"
   ]
  },
  {
   "cell_type": "markdown",
   "metadata": {},
   "source": [
    "To test our vector store, let’s start with a simple similarity computation which returns the first most similar result using cosine similarity as distance metric:"
   ]
  },
  {
   "cell_type": "code",
   "execution_count": 31,
   "metadata": {},
   "outputs": [
    {
     "data": {
      "text/plain": [
       "[Document(page_content='CardName: Mastercard Platinum. Discount: 5% cashback Description: Earn 5% cashback on all grocery store purchases. Offer valid until 11/30/2023.', metadata={'CardName': 'Mastercard Platinum', 'Discount': '5% cashback', 'Description': 'Earn 5% cashback on all grocery store purchases. Offer valid until 11/30/2023.', 'n_tokens': 39, 'vector': array([-0.01746309, -0.01555755, -0.00399054, ...,  0.00378824,\n",
       "        -0.0067738 , -0.03033201], dtype=float32), '_distance': 0.30936431884765625})]"
      ]
     },
     "execution_count": 31,
     "metadata": {},
     "output_type": "execute_result"
    }
   ],
   "source": [
    "query = \"I'm looking for an grocery shop credit cad promotion. What card could you suggest to me?\"\n",
    "docs = docsearch.similarity_search(query, k=1)\n",
    "docs"
   ]
  },
  {
   "cell_type": "markdown",
   "metadata": {},
   "source": [
    "Use LangChain RetrievalQA chain, alongside the LanceDB as retriever."
   ]
  },
  {
   "cell_type": "code",
   "execution_count": 32,
   "metadata": {},
   "outputs": [
    {
     "name": "stdout",
     "output_type": "stream",
     "text": [
      "Result:  The Mastercard Platinum or the Capital One SavorOne Cash Rewards Credit Card both offer cashback on grocery store purchases. The Revolut Standard Card also has a limited time offer for 2% cashback on grocery store purchases.\n"
     ]
    }
   ],
   "source": [
    "# Import Azure OpenAI\n",
    "query = \"I'm looking for an grocery shop credit cad promotion. What card could you suggest to me?\"\n",
    "\n",
    "# qa = RetrievalQA.from_chain_type(llm=llm_chat_api, \n",
    "#                                 chain_type=\"stuff\", \n",
    "#                                 retriever=docsearch.as_retriever(), \n",
    "#                                 return_source_documents=True\n",
    "#                                 )\n",
    "\n",
    "# result = qa({\"query\": query})\n",
    "# print(f\"Chat: {result['result']}\" )\n",
    "\n",
    "qa = RetrievalQA.from_chain_type(llm=llm_instruct_api, \n",
    "                                chain_type=\"stuff\", \n",
    "                                retriever=docsearch.as_retriever(), \n",
    "                                return_source_documents=True\n",
    "                                )\n",
    "\n",
    "result = qa({\"query\": query})\n",
    "print(f\"Result: {result['result']}\" )"
   ]
  },
  {
   "cell_type": "markdown",
   "metadata": {},
   "source": [
    "Since we used the return_source_documents=True parameter, we can also retrieve the source documents from our result variable:"
   ]
  },
  {
   "cell_type": "code",
   "execution_count": 33,
   "metadata": {},
   "outputs": [
    {
     "data": {
      "text/plain": [
       "Document(page_content='CardName: Mastercard Platinum. Discount: 5% cashback Description: Earn 5% cashback on all grocery store purchases. Offer valid until 11/30/2023.', metadata={'CardName': 'Mastercard Platinum', 'Discount': '5% cashback', 'Description': 'Earn 5% cashback on all grocery store purchases. Offer valid until 11/30/2023.', 'n_tokens': 39, 'vector': array([-0.01746309, -0.01555755, -0.00399054, ...,  0.00378824,\n",
       "       -0.0067738 , -0.03033201], dtype=float32), '_distance': 0.30936431884765625})"
      ]
     },
     "execution_count": 33,
     "metadata": {},
     "output_type": "execute_result"
    }
   ],
   "source": [
    "result['source_documents'][0]"
   ]
  },
  {
   "cell_type": "markdown",
   "metadata": {},
   "source": [
    "With RetrievalQA, you can pass a custom prompt that you can easily define using LangChain prompt templates. Let’s start with a simple prompt as follows:"
   ]
  },
  {
   "cell_type": "code",
   "execution_count": 35,
   "metadata": {},
   "outputs": [
    {
     "name": "stdout",
     "output_type": "stream",
     "text": [
      "Result:  I would suggest the Mastercard Platinum, Capital One SavorOne Cash Rewards Credit Card, and Capital One Walmart Rewards Card. The Mastercard Platinum offers a 5% cashback on all grocery store purchases, while the Capital One SavorOne Cash Rewards Credit Card has unlimited 3% cashback on dining and entertainment, popular streaming services, and grocery stores. The Capital One Walmart Rewards Card also offers 5% cashback on Walmart.com purchases, which includes pickup and delivery. These cards can provide significant savings on your grocery purchases.\n"
     ]
    }
   ],
   "source": [
    "from langchain.prompts import PromptTemplate\n",
    "\n",
    "template = \"\"\"You are a credit card recommender system that help me to decide which card I should use in my next payment. \n",
    "Use the following pieces of context to answer the question at the end. \n",
    "For each question, suggest three cards, with a short description of the plot and the reason why the user migth like it.\n",
    "If you don't know the answer, just say that you don't know, don't try to make up an answer.\n",
    "\n",
    "{context}\n",
    "\n",
    "Question: {question}\n",
    "Your response:\"\"\"\n",
    "\n",
    "\n",
    "PROMPT = PromptTemplate(\n",
    "    template=template, input_variables=[\"context\", \"question\"])\n",
    "\n",
    "chain_type_kwargs = {\"prompt\": PROMPT}\n",
    "\n",
    "query = \"I'm looking for an grocery shop credit cad promotion. What card could you suggest to me?\"\n",
    "\n",
    "qa = RetrievalQA.from_chain_type(llm=llm_instruct_api, \n",
    "    chain_type=\"stuff\", \n",
    "    retriever=docsearch.as_retriever(),\n",
    "    return_source_documents=True, \n",
    "    chain_type_kwargs=chain_type_kwargs)\n",
    "\n",
    "\n",
    "result = qa({'query':query})\n",
    "\n",
    "print(f\"Result: {result['result']}\" )\n"
   ]
  },
  {
   "cell_type": "code",
   "execution_count": 45,
   "metadata": {},
   "outputs": [
    {
     "name": "stdout",
     "output_type": "stream",
     "text": [
      "You are a credit card recommender system that help me to decide which card the user should use in my next payment. \n",
      "Use the following pieces of context to answer the question at the end. \n",
      "For each question, take into account the context and the personal information provided by the user.\n",
      "Take special attetion to the store were the user currently is and only suggest him/her to use the credit card that has the most benefits for the specific store.\n",
      "If you don't know the answer, just say that you don't know, don't try to make up an answer.\n",
      "\n",
      "{context}\n",
      "This is what we know about the user, and you can use this information to better tune your research:\n",
      "PreviousPayments: ['SPORTING GOODS STORES', 'COMPUTERS, COMPUTER PERIPHERAL EQUIPMENT, SOFTWARE', 'TELECOMMUNICATION EQUIPMENT AND TELEPHONE SALES', 'BOOK STORES']\n",
      "Store:Travel Agency\n",
      "\n",
      "Question: {question}\n",
      "Your response:\n"
     ]
    }
   ],
   "source": [
    "from langchain.prompts import PromptTemplate\n",
    "\n",
    "template_prefix = \"\"\"You are a credit card recommender system that help me to decide which card the user should use in my next payment. \n",
    "Use the following pieces of context to answer the question at the end. \n",
    "For each question, take into account the context and the personal information provided by the user.\n",
    "Take special attetion to the store were the user currently is and only suggest him/her to use the credit card that has the most benefits for the specific store.\n",
    "If you don't know the answer, just say that you don't know, don't try to make up an answer.\n",
    "\n",
    "{context}\"\"\"\n",
    "\n",
    "user_info = \"\"\"This is what we know about the user, and you can use this information to better tune your research:\n",
    "PreviousPayments: {listPreviousPayments}\n",
    "Store:{store}\n",
    "\"\"\"\n",
    "\n",
    "template_suffix= \"\"\"Question: {question}\n",
    "Your response:\"\"\"\n",
    "\n",
    "user_info = user_info.format(age = 18, \n",
    "                            gender = 'female', \n",
    "                            listPreviousPayments=\"['SPORTING GOODS STORES', 'COMPUTERS, COMPUTER PERIPHERAL EQUIPMENT, SOFTWARE', 'TELECOMMUNICATION EQUIPMENT AND TELEPHONE SALES', 'BOOK STORES']\",\n",
    "                            store='STAPLES'\n",
    ")\n",
    "\n",
    "COMBINED_PROMPT = template_prefix +'\\n'+ user_info +'\\n'+ template_suffix\n",
    "print(COMBINED_PROMPT)"
   ]
  },
  {
   "cell_type": "code",
   "execution_count": 46,
   "metadata": {},
   "outputs": [
    {
     "name": "stdout",
     "output_type": "stream",
     "text": [
      "Result:  Based on the information provided, I would recommend using the Capital One SavorOne Cash Rewards Credit Card. This card offers 3% cash back on dining, entertainment, popular streaming services, and grocery stores, which may be beneficial for your purchase at the travel agency. Additionally, there is no annual fee and you may be able to access a higher credit line after making your first 5 monthly payments on time.\n"
     ]
    }
   ],
   "source": [
    "PROMPT = PromptTemplate(\n",
    "    template=COMBINED_PROMPT, input_variables=[\"context\", \"question\"])\n",
    "\n",
    "chain_type_kwargs = {\"prompt\": PROMPT}\n",
    "\n",
    "query = \"Can you suggest me which credit card should I use?\"\n",
    "\n",
    "qa = RetrievalQA.from_chain_type(llm=llm_instruct_api, \n",
    "    chain_type=\"stuff\", \n",
    "    retriever=docsearch.as_retriever(),\n",
    "    return_source_documents=True, \n",
    "    chain_type_kwargs=chain_type_kwargs)\n",
    "\n",
    "\n",
    "result = qa({'query':query})\n",
    "result['result']\n",
    "\n",
    "\n",
    "print(f\"Result: {result['result']}\" )"
   ]
  },
  {
   "cell_type": "markdown",
   "metadata": {},
   "source": []
  },
  {
   "cell_type": "code",
   "execution_count": null,
   "metadata": {},
   "outputs": [],
   "source": []
  }
 ],
 "metadata": {
  "kernelspec": {
   "display_name": ".venv",
   "language": "python",
   "name": "python3"
  },
  "language_info": {
   "codemirror_mode": {
    "name": "ipython",
    "version": 3
   },
   "file_extension": ".py",
   "mimetype": "text/x-python",
   "name": "python",
   "nbconvert_exporter": "python",
   "pygments_lexer": "ipython3",
   "version": "3.11.7"
  }
 },
 "nbformat": 4,
 "nbformat_minor": 2
}
